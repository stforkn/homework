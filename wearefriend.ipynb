{
  "nbformat": 4,
  "nbformat_minor": 0,
  "metadata": {
    "colab": {
      "provenance": []
    },
    "kernelspec": {
      "name": "python3",
      "display_name": "Python 3"
    },
    "language_info": {
      "name": "python"
    }
  },
  "cells": [
    {
      "cell_type": "code",
      "execution_count": 7,
      "metadata": {
        "id": "8DQrJpW0qUFl"
      },
      "outputs": [],
      "source": [
        "from itertools import combinations"
      ]
    },
    {
      "cell_type": "markdown",
      "source": [
        "학생들의 조합을 찾기 위해 itertools의 combinations 모듈 호출"
      ],
      "metadata": {
        "id": "Blzaxcx3vBoc"
      }
    },
    {
      "cell_type": "code",
      "source": [
        "def solution(lists):\n",
        "  friends = list(combinations(lists,3))\n",
        "  a = 0\n",
        "  cases = []\n",
        "  if 3 >len(lists) or len(lists) >= 14:\n",
        "    return \"제한사항 위반\"\n",
        "  for i in lists:\n",
        "    if i < -1000 or i > 1000:\n",
        "      return \"제한사항 위반\""
      ],
      "metadata": {
        "colab": {
          "base_uri": "https://localhost:8080/",
          "height": 35
        },
        "id": "032v83NarM5n",
        "outputId": "42138bab-07e6-4079-d6ab-060a0af807be"
      },
      "execution_count": 18,
      "outputs": [
        {
          "output_type": "execute_result",
          "data": {
            "text/plain": [
              "'제한사항 위반'"
            ],
            "application/vnd.google.colaboratory.intrinsic+json": {
              "type": "string"
            }
          },
          "metadata": {},
          "execution_count": 18
        }
      ]
    },
    {
      "cell_type": "markdown",
      "source": [
        "## 조건 확인\n",
        "입력된 numbers가 조건 사항에 위반될 경우 제한사항 위반을 출력하며 함수 진행을 멈춘다.\n"
      ],
      "metadata": {
        "id": "VHcF0h4hrMyN"
      }
    },
    {
      "cell_type": "code",
      "source": [
        " for i in friends:\n",
        "    if int(sum(i)) == 0:\n",
        "      a +=1\n",
        "      cases.append(i)\n",
        "  if a == 0:\n",
        "      print(\"삼총사가 될 수 있는 방법이 없습니다.\")\n",
        "  else:\n",
        "    print(f\"학생들의 정수 번호 쌍 {cases} 이 삼총사가 될 수 있으므로, {a}를 return 합니다.\")\n",
        "\n",
        "solution(numbers)"
      ],
      "metadata": {
        "id": "kKVkE_PSvVs5"
      },
      "execution_count": null,
      "outputs": []
    },
    {
      "cell_type": "code",
      "source": [
        "## 해답 찾기\n",
        "주어진 numbers에 조합을 찾고 찾은 조합의 합을 구해서 0이 되는 경우의 수를 찾아 출력"
      ],
      "metadata": {
        "id": "CjKGGAlfvftk"
      },
      "execution_count": null,
      "outputs": []
    }
  ]
}