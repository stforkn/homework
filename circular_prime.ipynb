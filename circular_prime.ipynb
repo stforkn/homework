{
  "nbformat": 4,
  "nbformat_minor": 0,
  "metadata": {
    "colab": {
      "provenance": []
    },
    "kernelspec": {
      "name": "python3",
      "display_name": "Python 3"
    },
    "language_info": {
      "name": "python"
    }
  },
  "cells": [
    {
      "cell_type": "code",
      "source": [
        "from itertools import permutations"
      ],
      "metadata": {
        "id": "3UdSXIPZkYVk"
      },
      "execution_count": null,
      "outputs": []
    },
    {
      "cell_type": "markdown",
      "source": [
        "순열을 사용하기위해서 itertools 모듈 소환"
      ],
      "metadata": {
        "id": "bBZg_wvdka8l"
      }
    },
    {
      "cell_type": "code",
      "execution_count": 30,
      "metadata": {
        "id": "z_HMXWLWhaWl"
      },
      "outputs": [],
      "source": [
        "\n",
        "def is_prime(n):\n",
        "    if n<=1:\n",
        "        return False\n",
        "    if n==2 or n==3:\n",
        "        return True\n",
        "    if n%2==0 or n%3==0:\n",
        "        return False\n",
        "    i = 5\n",
        "    while i * i <=n:\n",
        "        if n % i ==0 or n% (i+2):\n",
        "            return False\n",
        "        i +=6\n",
        "    return True"
      ]
    },
    {
      "cell_type": "markdown",
      "source": [
        "#소수 판별 함수 만들기\n",
        "2와 3 외의 소수는 모두 6+k 혹은 6-k의 꼴이라는 점을 통해 함수 생성\n"
      ],
      "metadata": {
        "id": "JQVJSkUPkocd"
      }
    },
    {
      "cell_type": "code",
      "source": [
        "results = 4\n",
        "for i in range(10,1000000+1):\n",
        "  if is_prime(i):\n",
        "    a = permutations(str(i))\n",
        "    for j in a:\n",
        "      if is_prime(int(''.join(j))):\n",
        "        results +=1\n",
        "print(results)"
      ],
      "metadata": {
        "colab": {
          "base_uri": "https://localhost:8080/"
        },
        "id": "xNkulqoNkVg_",
        "outputId": "2ac863ef-3e8a-40ef-f45c-1a5b25357905"
      },
      "execution_count": 31,
      "outputs": [
        {
          "output_type": "stream",
          "name": "stdout",
          "text": [
            "22\n"
          ]
        }
      ]
    },
    {
      "cell_type": "markdown",
      "source": [
        "## 재배열 가능 소수 확인\n",
        "만약 i 가 소수라면 그 i의 숫자에 대해 순열을 생성해서 그 순열들에 대해서도 소수인지를 확인함."
      ],
      "metadata": {
        "id": "TzGJXk8hkXty"
      }
    }
  ]
}