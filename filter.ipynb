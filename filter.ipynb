{
  "nbformat": 4,
  "nbformat_minor": 0,
  "metadata": {
    "colab": {
      "provenance": []
    },
    "kernelspec": {
      "name": "python3",
      "display_name": "Python 3"
    },
    "language_info": {
      "name": "python"
    }
  },
  "cells": [
    {
      "cell_type": "markdown",
      "source": [
        "_filter()_ 를 통해 리스트에서 짝수를 뽑아낸후 *map()*을 통해 그 값들의 제곱값으로 이루어진 리스트를 생성하였다."
      ],
      "metadata": {
        "id": "2KaK71bDzLDi"
      }
    },
    {
      "cell_type": "code",
      "execution_count": 3,
      "metadata": {
        "colab": {
          "base_uri": "https://localhost:8080/"
        },
        "id": "dqXOoppWy4mN",
        "outputId": "8dd5a734-fb0d-4d94-d333-41394496aa3f"
      },
      "outputs": [
        {
          "output_type": "stream",
          "name": "stdout",
          "text": [
            "[4, 16, 36, 64, 100]\n"
          ]
        }
      ],
      "source": [
        "lists = [1, 2, 3, 4, 5, 6, 7, 8, 9, 10]\n",
        "result = filter(lambda x : x%2==0, lists)\n",
        "final = map(lambda x : x**2, result)\n",
        "print(list(final))"
      ]
    }
  ]
}