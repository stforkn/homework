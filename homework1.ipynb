{
 "cells": [
  {
   "cell_type": "code",
   "execution_count": 30,
   "id": "48824b40",
   "metadata": {},
   "outputs": [
    {
     "ename": "NameError",
     "evalue": "name 'nums' is not defined",
     "output_type": "error",
     "traceback": [
      "\u001b[1;31m---------------------------------------------------------------------------\u001b[0m",
      "\u001b[1;31mNameError\u001b[0m                                 Traceback (most recent call last)",
      "Input \u001b[1;32mIn [30]\u001b[0m, in \u001b[0;36m<cell line: 29>\u001b[1;34m()\u001b[0m\n\u001b[0;32m     26\u001b[0m     \u001b[38;5;28;01mreturn\u001b[39;00m m\n\u001b[0;32m     27\u001b[0m \u001b[38;5;66;03m#     print(f\"{nums}로 만들 수 있는 소수의 개수는 {m}개입니다.\")\u001b[39;00m\n\u001b[1;32m---> 29\u001b[0m solution(\u001b[43mnums\u001b[49m)\n",
      "\u001b[1;31mNameError\u001b[0m: name 'nums' is not defined"
     ]
    }
   ],
   "source": [
    "import itertools\n",
    "\n",
    "## 소수 판별 함수\n",
    "def is_prime(n):\n",
    "    if n<=1:\n",
    "        return False\n",
    "    if n==2 or n==3:\n",
    "        return True\n",
    "    if n%2==0 or n%3==0:\n",
    "        return False\n",
    "    i = 5\n",
    "    while i * i <=n:\n",
    "        if n % i ==0 or n% (i+2):\n",
    "            return False\n",
    "        i +=6\n",
    "    return True\n",
    "\n",
    "## 입력된 숫자값들로 만들 수 있는 소수의 합을 찾는 함수\n",
    "def solution(nums):\n",
    "    linums = list(itertools.combinations(nums,3))\n",
    "    m=0\n",
    "    for num in linums:\n",
    "        inum = int(num[0]+num[1]+num[2])\n",
    "        if is_prime(inum) == True:\n",
    "            m+=1\n",
    "    return m\n",
    "#     print(f\"{nums}로 만들 수 있는 소수의 개수는 {m}개입니다.\")\n",
    "    \n",
    "solution(nums)\n",
    "\n",
    "\n",
    "\n",
    "\n",
    "    \n",
    "    "
   ]
  },
  {
   "cell_type": "code",
   "execution_count": null,
   "id": "9122fa3e",
   "metadata": {},
   "outputs": [],
   "source": []
  }
 ],
 "metadata": {
  "kernelspec": {
   "display_name": "Python 3 (ipykernel)",
   "language": "python",
   "name": "python3"
  },
  "language_info": {
   "codemirror_mode": {
    "name": "ipython",
    "version": 3
   },
   "file_extension": ".py",
   "mimetype": "text/x-python",
   "name": "python",
   "nbconvert_exporter": "python",
   "pygments_lexer": "ipython3",
   "version": "3.9.12"
  }
 },
 "nbformat": 4,
 "nbformat_minor": 5
}
