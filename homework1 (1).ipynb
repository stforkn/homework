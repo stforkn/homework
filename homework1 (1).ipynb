{
 "cells": [
  {
   "cell_type": "markdown",
   "id": "c9f2e485",
   "metadata": {},
   "source": [
    "순열을 사용하기 위해 itertools 모듈을 생성"
   ]
  },
  {
   "cell_type": "code",
   "execution_count": 32,
   "id": "758a6405",
   "metadata": {},
   "outputs": [],
   "source": [
    "import itertools"
   ]
  },
  {
   "cell_type": "markdown",
   "id": "30f15314",
   "metadata": {},
   "source": [
    "## 소수 판별\n",
    "가장 작은 소수들인 2와 3을 먼저 제외한 뒤 6k+1 혹은 6k-1로 표현되는 소수들의 특징을 통해 소수를 판별"
   ]
  },
  {
   "cell_type": "code",
   "execution_count": null,
   "id": "7b80f9ce",
   "metadata": {},
   "outputs": [],
   "source": [
    "def is_prime(n):\n",
    "    if n<=1:\n",
    "        return False\n",
    "    if n==2 or n==3:\n",
    "        return True\n",
    "    if n%2==0 or n%3==0:\n",
    "        return False\n",
    "    i = 5\n",
    "    while i * i <=n:\n",
    "        if n % i ==0 or n% (i+2):\n",
    "            return False\n",
    "        i +=6\n",
    "    return True"
   ]
  },
  {
   "cell_type": "markdown",
   "id": "c887719e",
   "metadata": {},
   "source": [
    "## 문제 해결\n",
    "itertools의 combinations를 통해 문제에서 주어지는 nums 리스트의 순열을 구하고 그 값들을 더해서 소수인지 아닌지 판별합니다. 만약 소수 일 경우 m의 값을 +1시키는 식으로 모든 조합에 대해 진행한 후 결과값 m을 return합니다. "
   ]
  },
  {
   "cell_type": "code",
   "execution_count": 31,
   "id": "fd399689",
   "metadata": {},
   "outputs": [
    {
     "ename": "NameError",
     "evalue": "name 'nums' is not defined",
     "output_type": "error",
     "traceback": [
      "\u001b[1;31m---------------------------------------------------------------------------\u001b[0m",
      "\u001b[1;31mNameError\u001b[0m                                 Traceback (most recent call last)",
      "Input \u001b[1;32mIn [31]\u001b[0m, in \u001b[0;36m<cell line: 9>\u001b[1;34m()\u001b[0m\n\u001b[0;32m      7\u001b[0m             m\u001b[38;5;241m+\u001b[39m\u001b[38;5;241m=\u001b[39m\u001b[38;5;241m1\u001b[39m\n\u001b[0;32m      8\u001b[0m     \u001b[38;5;28;01mreturn\u001b[39;00m m\n\u001b[1;32m----> 9\u001b[0m solution(\u001b[43mnums\u001b[49m)\n",
      "\u001b[1;31mNameError\u001b[0m: name 'nums' is not defined"
     ]
    }
   ],
   "source": [
    "def solution(nums):\n",
    "    linums = list(itertools.combinations(nums,3))\n",
    "    m=0\n",
    "    for num in linums:\n",
    "        inum = int(num[0]+num[1]+num[2])\n",
    "        if is_prime(inum) == True:\n",
    "            m+=1\n",
    "    return m\n",
    "solution(nums)"
   ]
  },
  {
   "cell_type": "code",
   "execution_count": null,
   "id": "4d6fb7d2",
   "metadata": {},
   "outputs": [],
   "source": []
  }
 ],
 "metadata": {
  "kernelspec": {
   "display_name": "Python 3 (ipykernel)",
   "language": "python",
   "name": "python3"
  },
  "language_info": {
   "codemirror_mode": {
    "name": "ipython",
    "version": 3
   },
   "file_extension": ".py",
   "mimetype": "text/x-python",
   "name": "python",
   "nbconvert_exporter": "python",
   "pygments_lexer": "ipython3",
   "version": "3.9.12"
  }
 },
 "nbformat": 4,
 "nbformat_minor": 5
}
