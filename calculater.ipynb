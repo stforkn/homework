{
 "cells": [
  {
   "cell_type": "markdown",
   "id": "b7daf7a3",
   "metadata": {},
   "source": [
    "계산을 위한 숫자와 연산자를 입력 받습니다. 만약 a 혹은 b에 숫자 외의 것이 입력된다면 오류메세지를 출력합니다."
   ]
  },
  {
   "cell_type": "code",
   "execution_count": null,
   "id": "91542fbc",
   "metadata": {},
   "outputs": [],
   "source": [
    "try:\n",
    "  a = int(input(\"첫 번째 숫자를 입력해주세요 : \"))\n",
    "  b = input(\"연산자를 입력해주세요 (+ - * /) : \")\n",
    "  c = int(input(\"두 번째 숫자를 입력해주세요 : \"))\n",
    "except:\n",
    "  print(\"숫자를 입력해주세요.\")"
   ]
  },
  {
   "cell_type": "markdown",
   "id": "5b630e2b",
   "metadata": {},
   "source": [
    "b에 입력된 연산자를 비교하여 계산을 수행하고 그 값을 출력합니다. 만약 나눗셈 계산에서 c에 0이 입력되었다면 오류메세지를 출력합니다."
   ]
  },
  {
   "cell_type": "code",
   "execution_count": null,
   "id": "570061e3",
   "metadata": {},
   "outputs": [],
   "source": [
    "if b == \"+\":\n",
    "    print(a + c)\n",
    "elif b == \"-\":\n",
    "    print(a - c)\n",
    "elif b == \"*\":\n",
    "    print(a * c)\n",
    "elif b == \"/\":\n",
    "    try:\n",
    "      print(a / c)\n",
    "    except:\n",
    "      print(\"0으로 나눌 수 없습니다.\")"
   ]
  },
  {
   "cell_type": "markdown",
   "id": "9b09e228",
   "metadata": {},
   "source": [
    "b에 +-*\\/ 외의 연산자가 입력 됐을 경우에는 if 문을 통해 계산 할 수 없음을 보입니다."
   ]
  },
  {
   "cell_type": "code",
   "execution_count": null,
   "id": "9cfed198",
   "metadata": {},
   "outputs": [],
   "source": [
    "else:\n",
    "    print(\"잘못된 연산자입니다.\")"
   ]
  },
  {
   "cell_type": "code",
   "execution_count": null,
   "id": "7c2c7cb9",
   "metadata": {},
   "outputs": [],
   "source": []
  }
 ],
 "metadata": {
  "kernelspec": {
   "display_name": "Python 3 (ipykernel)",
   "language": "python",
   "name": "python3"
  },
  "language_info": {
   "codemirror_mode": {
    "name": "ipython",
    "version": 3
   },
   "file_extension": ".py",
   "mimetype": "text/x-python",
   "name": "python",
   "nbconvert_exporter": "python",
   "pygments_lexer": "ipython3",
   "version": "3.9.12"
  }
 },
 "nbformat": 4,
 "nbformat_minor": 5
}
