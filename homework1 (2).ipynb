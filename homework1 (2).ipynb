{
 "cells": [
  {
   "cell_type": "markdown",
   "id": "8254929d",
   "metadata": {},
   "source": [
    "순열을 사용하기 위해 itertools 모듈을 생성"
   ]
  },
  {
   "cell_type": "code",
   "execution_count": 1,
   "id": "32d2e01b",
   "metadata": {},
   "outputs": [],
   "source": [
    "import itertools"
   ]
  },
  {
   "cell_type": "markdown",
   "id": "736c91d0",
   "metadata": {},
   "source": [
    "## 소수 판별\n",
    "가장 작은 소수들인 2와 3을 먼저 제외한 뒤 6k+1 혹은 6k-1로 표현되는 소수들의 특징을 통해 소수를 판별"
   ]
  },
  {
   "cell_type": "code",
   "execution_count": 2,
   "id": "a3d62434",
   "metadata": {},
   "outputs": [],
   "source": [
    "def is_prime(n):\n",
    "    if n<=1:\n",
    "        return False\n",
    "    if n==2 or n==3:\n",
    "        return True\n",
    "    if n%2==0 or n%3==0:\n",
    "        return False\n",
    "    i = 5\n",
    "    while i * i <=n:\n",
    "        if n % i ==0 or n% (i+2):\n",
    "            return False\n",
    "        i +=6\n",
    "    return True"
   ]
  },
  {
   "cell_type": "markdown",
   "id": "09c3ccd3",
   "metadata": {},
   "source": [
    "## 문제 해결\n",
    "itertools의 combinations를 통해 문제에서 주어지는 nums 리스트의 순열을 구하고 그 값들을 더해서 소수인지 아닌지 판별합니다. 만약 소수 일 경우 m의 값을 +1시키는 식으로 모든 조합에 대해 진행한 후 결과값 m을 return합니다. "
   ]
  },
  {
   "cell_type": "code",
   "execution_count": null,
   "id": "c3810eb5",
   "metadata": {},
   "outputs": [],
   "source": [
    "def solution(nums):\n",
    "    linums = list(itertools.combinations(nums,3))\n",
    "    m=0\n",
    "    for num in linums:\n",
    "        inum = int(num[0]+num[1]+num[2])\n",
    "        if is_prime(inum) == True:\n",
    "            m+=1\n",
    "    return m\n",
    "solution(nums)"
   ]
  }
 ],
 "metadata": {
  "kernelspec": {
   "display_name": "Python 3 (ipykernel)",
   "language": "python",
   "name": "python3"
  },
  "language_info": {
   "codemirror_mode": {
    "name": "ipython",
    "version": 3
   },
   "file_extension": ".py",
   "mimetype": "text/x-python",
   "name": "python",
   "nbconvert_exporter": "python",
   "pygments_lexer": "ipython3",
   "version": "3.9.12"
  }
 },
 "nbformat": 4,
 "nbformat_minor": 5
}
